{
 "cells": [
  {
   "cell_type": "code",
   "execution_count": 1,
   "metadata": {},
   "outputs": [],
   "source": [
    "import requests\n",
    "from datetime import datetime\n",
    "# import boto3\n",
    "from decimal import Decimal\n",
    "\n",
    "\n",
    "class RestaurantData:\n",
    "    def __init__(self):\n",
    "        self.restaurant_ids = set()\n",
    "\n",
    "    def _is_value_empty(self, value):\n",
    "        return not value or len(str(value)) == 0\n",
    "\n",
    "    def _format_data(self, entry, cuisine):\n",
    "        formatted = {}\n",
    "        self.restaurant_ids.add(entry['id'])\n",
    "\n",
    "        formatted['id'] = entry['id']\n",
    "        formatted['insertedAtTimestamp'] = str(datetime.now())\n",
    "        formatted['cuisine_type'] = 'indian' if cuisine == 'indpak' else cuisine\n",
    "        formatted['name'] = entry['name']\n",
    "        formatted['url'] = entry['url']\n",
    "\n",
    "        if not self._is_value_empty(entry.get(\"rating\")):\n",
    "            formatted[\"rating\"] = Decimal(entry[\"rating\"])\n",
    "        if not self._is_value_empty(entry.get(\"coordinates\")):\n",
    "            formatted[\"latitude\"] = Decimal(str(entry[\"coordinates\"][\"latitude\"]))\n",
    "            formatted[\"longitude\"] = Decimal(str(entry[\"coordinates\"][\"longitude\"]))\n",
    "        if not self._is_value_empty(entry.get(\"phone\")):\n",
    "            formatted[\"contact\"] = entry[\"phone\"]\n",
    "        if not self._is_value_empty(entry.get(\"review_count\")):\n",
    "            formatted[\"review_count\"] = entry[\"review_count\"]\n",
    "        if not self._is_value_empty(entry.get(\"price\")):\n",
    "            formatted[\"price\"] = entry[\"price\"]\n",
    "\n",
    "        if entry.get('location'):\n",
    "            address = \"\".join(entry['location']['display_address'])\n",
    "            formatted['address'] = address\n",
    "            formatted[\"zip_code\"] = entry['location']['zip_code']\n",
    "\n",
    "        return formatted\n",
    "\n",
    "    def fetch_yelp_data(self, api, api_key):\n",
    "        headers = {\"Authorization\": \"Bearer \" + api_key}\n",
    "        cuisines = ['indpak', 'italian', 'mexican', 'chinese', 'japanese', 'french', 'greek']\n",
    "        location = 'manhattan'\n",
    "        all_data = []\n",
    "\n",
    "        for cuisine in cuisines:\n",
    "            total_entries = 1000\n",
    "            offset = 0\n",
    "            while total_entries > 0:\n",
    "                params = {\n",
    "                    'location': location,\n",
    "                    'categories': cuisine,\n",
    "                    'limit': 50,\n",
    "                    'offset': offset\n",
    "                }\n",
    "                response = requests.get(api, headers=headers, params=params).json()\n",
    "                if response.get(\"businesses\"):\n",
    "                    for entry in response[\"businesses\"]:\n",
    "                        if entry['id'] in self.restaurant_ids:\n",
    "                            continue\n",
    "                        all_data.append(self._format_data(entry, cuisine))\n",
    "                    total_entries -= len(response[\"businesses\"])\n",
    "                    offset += len(response[\"businesses\"])\n",
    "                else:\n",
    "                    break\n",
    "\n",
    "        return all_data\n",
    "\n",
    "    # def store_data(self, restaurant_data):\n",
    "    #     dynamodb = boto3.resource('dynamodb',\n",
    "    #                               aws_access_key_id='',\n",
    "    #                               aws_secret_access_key='',\n",
    "    #                               region_name='us-east-1')\n",
    "    #     table = dynamodb.Table('yelp_restaurants')\n",
    "    #     for data in restaurant_data:\n",
    "    #         table.put_item(Item=data)\n",
    "\n",
    "\n"
   ]
  },
  {
   "cell_type": "code",
   "execution_count": 4,
   "metadata": {},
   "outputs": [],
   "source": [
    "api_url = 'https://api.yelp.com/v3/businesses/search'\n",
    "# Removed the hardcoded credentials for security before pushing to GitHub\n",
    "\n",
    "processor = RestaurantData()\n",
    "data = processor.fetch_yelp_data(api_url, api_access_key)\n",
    "# processor.store_data(data)"
   ]
  },
  {
   "cell_type": "code",
   "execution_count": 14,
   "metadata": {},
   "outputs": [],
   "source": [
    "import pickle\n",
    "\n",
    "data = pickle.load(open(\"yeld_restaraunt_info.p\", \"rb\"))"
   ]
  },
  {
   "cell_type": "code",
   "execution_count": 15,
   "metadata": {},
   "outputs": [],
   "source": [
    "import json\n",
    "from decimal import Decimal\n",
    "\n",
    "class DecimalEncoder(json.JSONEncoder):\n",
    "    def default(self, obj):\n",
    "        if isinstance(obj, Decimal):\n",
    "            return float(obj)\n",
    "        return super(DecimalEncoder, self).default(obj)\n",
    "\n",
    "def sanitize_item(item):\n",
    "    return json.loads(json.dumps(item, cls=DecimalEncoder), parse_float=Decimal)"
   ]
  },
  {
   "cell_type": "code",
   "execution_count": 18,
   "metadata": {},
   "outputs": [],
   "source": [
    "from botocore.exceptions import ClientError\n",
    "import boto3\n",
    "\n",
    "def push_to_dynamodb(table_name, item, aws_access_key_id, aws_secret_access_key):\n",
    "    # Initialize a DynamoDB client\n",
    "    dynamodb = boto3.resource('dynamodb', region_name=\"us-east-1\", aws_access_key_id=aws_access_key_id, aws_secret_access_key=aws_secret_access_key)\n",
    "    \n",
    "    # Get the table\n",
    "    table = dynamodb.Table(table_name)\n",
    "    sanitized_item = sanitize_item(item)\n",
    "    try:\n",
    "        # Put the item into the table\n",
    "        response = table.put_item(Item=sanitized_item)\n",
    "        print(f\"Successfully added item to {table_name}\")\n",
    "        return response\n",
    "    except ClientError as e:\n",
    "        print(f\"Error adding item to {table_name}: {e.response['Error']['Message']}\")\n",
    "        return None"
   ]
  },
  {
   "cell_type": "code",
   "execution_count": 20,
   "metadata": {},
   "outputs": [
    {
     "name": "stdout",
     "output_type": "stream",
     "text": [
      "0\n",
      "Successfully added item to yelp-restaurants\n"
     ]
    }
   ],
   "source": [
    "tablename = 'yelp-restaurants'\n",
    "\n",
    "for i in range(1):\n",
    "    print(i)\n",
    "    push_to_dynamodb(tablename, data[i], aws_access_key, aws_secret_access_key)"
   ]
  },
  {
   "cell_type": "code",
   "execution_count": 16,
   "metadata": {},
   "outputs": [
    {
     "data": {
      "text/plain": [
       "{'id': 'A-ert0jDRBfku9ogyW_mEg',\n",
       " 'insertedAtTimestamp': '2024-10-15 15:21:27.454296',\n",
       " 'cuisine_type': 'indian',\n",
       " 'name': 'Spice Symphony - Midtown East',\n",
       " 'url': 'https://www.yelp.com/biz/spice-symphony-midtown-east-new-york?adjust_creative=0_dLB7aYv_yCRg13g3cs0g&utm_campaign=yelp_api_v3&utm_medium=api_v3_business_search&utm_source=0_dLB7aYv_yCRg13g3cs0g',\n",
       " 'rating': Decimal('4.4000000000000003552713678800500929355621337890625'),\n",
       " 'latitude': Decimal('40.7558937072754'),\n",
       " 'longitude': Decimal('-73.9715347290039'),\n",
       " 'contact': '+12123004869',\n",
       " 'review_count': 708,\n",
       " 'price': '$$',\n",
       " 'address': '150 E 50th StNew York, NY 10022',\n",
       " 'zip_code': '10022'}"
      ]
     },
     "execution_count": 16,
     "metadata": {},
     "output_type": "execute_result"
    }
   ],
   "source": [
    "data[3]"
   ]
  },
  {
   "cell_type": "code",
   "execution_count": 2,
   "metadata": {},
   "outputs": [],
   "source": [
    "import pickle\n",
    "\n",
    "data = pickle.load(open(\"yeld_restaraunt_info.p\", \"rb\"))"
   ]
  },
  {
   "cell_type": "code",
   "execution_count": 9,
   "metadata": {},
   "outputs": [],
   "source": [
    "import json\n",
    "\n",
    "# Format the data for Elasticsearch bulk operations\n",
    "formatted_data = []\n",
    "for item in data:\n",
    "    # Add the action metadata\n",
    "    action = {\n",
    "        \"index\": {\n",
    "            \"_index\": \"restaurants\",  # Replace with your index name\n",
    "            \"_id\": item.get(\"id\", None)  # Assuming each item has an 'id' field\n",
    "        }\n",
    "    }\n",
    "    formatted_data.append(action)\n",
    "    cleaneddata = {\"id\": item.get(\"id\", None), \"cuisine_type\": item.get(\"cuisine_type\", None)}\n",
    "    formatted_data.append(cleaneddata)\n",
    "\n",
    "# Save the formatted data to a new file\n",
    "with open('formatted_data.json', 'w') as f:\n",
    "    for line in formatted_data:\n",
    "        f.write(json.dumps(line) + '\\n')"
   ]
  },
  {
   "cell_type": "code",
   "execution_count": null,
   "metadata": {},
   "outputs": [],
   "source": [
    "\"\"\"\n",
    "curl -X POST -u \"uname:password\" \"https://search-restaurants-2xdgvyexvq2piwckzjh5k6vh64.us-east-2.es.amazonaws.com/_bulk\" --data-binary \"@formatted_data.json\" -H \"Content-Type: application/json\"\n",
    "curl -X POST -u \"uname:password\" \"https://search-restaurants-vdxopwnqknskbpvq5envfpxje4.us-east-1.es.amazonaws.com/_bulk\" --data-binary \"@formatted_data.json\" -H \"Content-Type: application/json\"\n",
    "\n",
    "\"https://search-restaurants-vdxopwnqknskbpvq5envfpxje4.us-east-1.es.amazonaws.com/\"\n",
    "\"\"\""
   ]
  }
 ],
 "metadata": {
  "kernelspec": {
   "display_name": "test",
   "language": "python",
   "name": "python3"
  },
  "language_info": {
   "codemirror_mode": {
    "name": "ipython",
    "version": 3
   },
   "file_extension": ".py",
   "mimetype": "text/x-python",
   "name": "python",
   "nbconvert_exporter": "python",
   "pygments_lexer": "ipython3",
   "version": "3.8.18"
  }
 },
 "nbformat": 4,
 "nbformat_minor": 2
}
